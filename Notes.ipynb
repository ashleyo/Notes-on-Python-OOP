{
 "cells": [
  {
   "cell_type": "markdown",
   "metadata": {},
   "source": [
    "# Some notes on OOP in Python\n",
    "\n",
    "## See also [this](https://realpython.com/python3-object-oriented-programming/) which covers the same ground and has a quiz!\n"
   ]
  },
  {
   "cell_type": "markdown",
   "metadata": {},
   "source": [
    "1. Defining classes\n",
    "\n",
    "We'll focus on syntax so an empty class is fine. We'll look at classes that do something later."
   ]
  },
  {
   "cell_type": "code",
   "execution_count": 4,
   "metadata": {},
   "outputs": [],
   "source": [
    "class Larry:\n",
    "    pass\n",
    "\n",
    "# ellipsis can be used as a placeholder too\n",
    "\n",
    "class Curly:\n",
    "    ...\n",
    "\n",
    "# or a comment also meets the need for a class to have a body (note indenation)\n",
    "\n",
    "class Moe:\n",
    "    '''\n",
    "    I'm a comment\n",
    "    '''\n",
    "    "
   ]
  },
  {
   "cell_type": "markdown",
   "metadata": {},
   "source": [
    "2. Creating objects\n",
    "\n",
    "Having created the three classes, we can then create objects of that type, e.g."
   ]
  },
  {
   "cell_type": "code",
   "execution_count": 5,
   "metadata": {},
   "outputs": [
    {
     "name": "stdout",
     "output_type": "stream",
     "text": [
      "<__main__.Curly object at 0x000001F3B97D6B70>\n",
      "<__main__.Curly object at 0x000001F3B97A82C0>\n"
     ]
    }
   ],
   "source": [
    "C = Curly()\n",
    "print(C)\n",
    "D = Curly()\n",
    "print(D)"
   ]
  },
  {
   "cell_type": "markdown",
   "metadata": {},
   "source": [
    "Things to note\n",
    "\n",
    "+ The compiler does not know how to print our custom objects of types, Larry, Curly, and Moe, so it does the best it can by printing details of the type and the address in RAM of the object\n",
    "+ These are different objects as can be seen by the different addresses. "
   ]
  }
 ],
 "metadata": {
  "kernelspec": {
   "display_name": "Python 3",
   "language": "python",
   "name": "python3"
  },
  "language_info": {
   "codemirror_mode": {
    "name": "ipython",
    "version": 3
   },
   "file_extension": ".py",
   "mimetype": "text/x-python",
   "name": "python",
   "nbconvert_exporter": "python",
   "pygments_lexer": "ipython3",
   "version": "3.12.4"
  }
 },
 "nbformat": 4,
 "nbformat_minor": 2
}
